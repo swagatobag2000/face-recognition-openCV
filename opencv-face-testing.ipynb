{
 "cells": [
  {
   "cell_type": "markdown",
   "metadata": {},
   "source": [
    "This is thr first file, where we have tested the mechanism of opencv face recognition algo"
   ]
  },
  {
   "cell_type": "code",
   "execution_count": 12,
   "metadata": {},
   "outputs": [],
   "source": [
    "import cv2"
   ]
  },
  {
   "cell_type": "code",
   "execution_count": 13,
   "metadata": {},
   "outputs": [],
   "source": [
    "# Load some pre-trained data on face frontals from opencv (haar cascade algorithm)\n",
    "trained_face_data = cv2.CascadeClassifier(cv2.data.haarcascades + 'haarcascade_frontalface_default.xml')"
   ]
  },
  {
   "cell_type": "code",
   "execution_count": 14,
   "metadata": {},
   "outputs": [],
   "source": [
    "# Choose an image to detect faces in\n",
    "# img = cv2.imread('swagato.jpeg')"
   ]
  },
  {
   "cell_type": "code",
   "execution_count": 15,
   "metadata": {},
   "outputs": [],
   "source": [
    "# To capture forever over frmaes\n",
    "webcam = cv2.VideoCapture(0)"
   ]
  },
  {
   "cell_type": "code",
   "execution_count": 16,
   "metadata": {},
   "outputs": [],
   "source": [
    "# Iterate forever over frames\n",
    "while True:\n",
    "    # Read the current frame\n",
    "    successful_frame_read, frame = webcam.read()\n",
    "    # Must convert to grayscale\n",
    "    grayscaled_img = cv2.cvtColor(frame,cv2.COLOR_BGR2GRAY)\n",
    "    # Detect Faces\n",
    "    face_coordinates = trained_face_data.detectMultiScale(grayscaled_img)\n",
    "    # Draw rectangles around the faces\n",
    "    for (x ,y, w, h) in face_coordinates:\n",
    "        cv2.rectangle(frame, (x,y), (x+w, y+h), (0,255,0), 5)\n",
    "    # Show the image in a window\n",
    "    cv2.imshow('Face Detector',frame)\n",
    "    # wait the screen from the code execution\n",
    "    key = cv2.waitKey(1)\n",
    "    \n",
    "    # Stop if Q is pressed\n",
    "    if key == 81 or key == 113:\n",
    "        break\n",
    "\n",
    "#Release the VideoCapture Object\n",
    "webcam.release()\n",
    "cv2.destroyAllWindows()"
   ]
  }
 ],
 "metadata": {
  "kernelspec": {
   "display_name": "Python 3",
   "language": "python",
   "name": "python3"
  },
  "language_info": {
   "codemirror_mode": {
    "name": "ipython",
    "version": 3
   },
   "file_extension": ".py",
   "mimetype": "text/x-python",
   "name": "python",
   "nbconvert_exporter": "python",
   "pygments_lexer": "ipython3",
   "version": "3.8.5"
  }
 },
 "nbformat": 4,
 "nbformat_minor": 4
}
