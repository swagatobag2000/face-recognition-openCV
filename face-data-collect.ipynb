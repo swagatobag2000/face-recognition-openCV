{
 "cells": [
  {
   "cell_type": "code",
   "execution_count": 6,
   "metadata": {},
   "outputs": [],
   "source": [
    "import cv2\n",
    "import numpy as np"
   ]
  },
  {
   "cell_type": "code",
   "execution_count": 7,
   "metadata": {},
   "outputs": [],
   "source": [
    "# Load some pre-trained data on face frontals from opencv (haar cascade algorithm)\n",
    "trained_face_data = cv2.CascadeClassifier(cv2.data.haarcascades + 'haarcascade_frontalface_default.xml')"
   ]
  },
  {
   "cell_type": "code",
   "execution_count": 8,
   "metadata": {},
   "outputs": [],
   "source": [
    "# Choose an image to detect faces in\n",
    "# img = cv2.imread('swagato.jpeg')"
   ]
  },
  {
   "cell_type": "code",
   "execution_count": 9,
   "metadata": {},
   "outputs": [
    {
     "name": "stdout",
     "output_type": "stream",
     "text": [
      "Enter the name of the Person : Swagato\n"
     ]
    }
   ],
   "source": [
    "# skip is used to capture every 10th frame later\n",
    "skip = 0\n",
    "\n",
    "# face_data is used to store the numpy array of the picture\n",
    "face_data = []\n",
    "\n",
    "# dataset_path is used to store the directory name, where each .npy files would be stored\n",
    "dataset_path = './data/'\n",
    "\n",
    "# file name\n",
    "file_name = input(\"Enter the name of the Person : \")"
   ]
  },
  {
   "cell_type": "code",
   "execution_count": 10,
   "metadata": {},
   "outputs": [
    {
     "name": "stdout",
     "output_type": "stream",
     "text": [
      "(48, 30000)\n",
      "Data Sucessfully Saved at: ./data/Swagato.npy\n"
     ]
    }
   ],
   "source": [
    "# To capture forever over frmaes\n",
    "webcam = cv2.VideoCapture(0)\n",
    "\n",
    "# Iterate forever over frames\n",
    "while True:\n",
    "    # Read the current frame\n",
    "    successful_frame_read, frame = webcam.read()\n",
    "    \n",
    "    # if frame is not captured, try again\n",
    "    if successful_frame_read == False:\n",
    "        continue\n",
    "        \n",
    "    # Must convert to grayscale\n",
    "    grayscaled_img = cv2.cvtColor(frame,cv2.COLOR_BGR2GRAY)\n",
    "    \n",
    "    # Detect Faces\n",
    "    face_coordinates = trained_face_data.detectMultiScale(grayscaled_img,1.3,5)\n",
    "    \n",
    "    # sorting the numpy array according to face area (x[2] * x[3])\n",
    "    face_coordinates = sorted(face_coordinates, key = lambda x : x[2] * x[3])\n",
    "    \n",
    "    # pick the last face as it is the largest\n",
    "    for (x ,y, w, h) in face_coordinates[-1:]:\n",
    "        # Draw rectangles around the faces\n",
    "        cv2.rectangle(frame, (x,y), (x+w, y+h), (0,255,0), 5)\n",
    "        \n",
    "        # Extract (crop out the required face) : region of interest\n",
    "        offset = 10\n",
    "        face_section = frame[y - offset : y + h + offset,x - offset : x + w + offset]\n",
    "        face_section = cv2.resize(face_section,(100, 100))\n",
    "        \n",
    "        skip +=1\n",
    "        if skip % 10 == 0:\n",
    "            face_data.append(face_section)\n",
    "#             print(len(face_data))\n",
    "            \n",
    "    # Show the image and the required interested image in a window\n",
    "    cv2.imshow('Frame',frame)\n",
    "    cv2.imshow('Face Section',face_section)\n",
    "    # wait the screen from the code execution\n",
    "    key = cv2.waitKey(1)\n",
    "    \n",
    "    # Stop if Q is pressed\n",
    "    if key == 81 or key == 113:\n",
    "        break\n",
    "\n",
    "# convert our face list array to numpy array\n",
    "face_data = np.asarray(face_data)\n",
    "face_data = face_data.reshape((face_data.shape[0],-1))\n",
    "print(face_data.shape)\n",
    "\n",
    "# save this data into file system\n",
    "np.save(dataset_path + file_name + '.npy', face_data)\n",
    "print(\"Data Sucessfully Saved at: \" + dataset_path + file_name + '.npy')\n",
    "\n",
    "#Release the VideoCapture Object\n",
    "webcam.release()\n",
    "cv2.destroyAllWindows()"
   ]
  }
 ],
 "metadata": {
  "kernelspec": {
   "display_name": "Python 3",
   "language": "python",
   "name": "python3"
  },
  "language_info": {
   "codemirror_mode": {
    "name": "ipython",
    "version": 3
   },
   "file_extension": ".py",
   "mimetype": "text/x-python",
   "name": "python",
   "nbconvert_exporter": "python",
   "pygments_lexer": "ipython3",
   "version": "3.8.5"
  }
 },
 "nbformat": 4,
 "nbformat_minor": 4
}
